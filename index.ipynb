{
 "cells": [
  {
   "cell_type": "code",
   "execution_count": null,
   "metadata": {},
   "outputs": [],
   "source": [
    "#| hide\n",
    "from fastrelease import *"
   ]
  },
  {
   "cell_type": "markdown",
   "metadata": {},
   "source": [
    "# fastrelease\n",
    "\n",
    "> Auto-generated tagged releases, and release notes (from GitHub issues).\n",
    "\n",
    "- image: images/index.png"
   ]
  },
  {
   "cell_type": "markdown",
   "metadata": {},
   "source": [
    "**NB: This project is now deprecated -- its functionality has been moved into [nbdev.release](https://nbdev.fast.ai).**\n",
    "\n",
    "`fastrelease` provides two commands that you can run from your shell:\n",
    "\n",
    "- `nbdev_changelog`: creates a CHANGELOG.md file from closed and labeled GitHub issues\n",
    "- `nbdev_tag_release`: tags and creates a release in GitHub for the current version.\n",
    "\n",
    "Be sure to check out the full documentation at [fastrelease.fast.ai](https://fastrelease.fast.ai/). Here's a brief demonstration of how to use `fastrelease`. This demo first creates an issue using the [`gh`](https://cli.github.com/) command line tool, and then closes it using `git`; you can also use GitHub's web interface for both of these tasks."
   ]
  },
  {
   "cell_type": "markdown",
   "metadata": {},
   "source": [
    "<a href=\"images/intro.svg\"><img src=\"images/intro.svg\" width=\"900px\" /></a>"
   ]
  },
  {
   "cell_type": "markdown",
   "metadata": {},
   "source": [
    "## Install"
   ]
  },
  {
   "cell_type": "markdown",
   "metadata": {},
   "source": [
    "`fastrelease` has only one small prerequisite (`fastcore`) and will run on Python 3.6 or later. You can install from pip:\n",
    "\n",
    "`pip install fastrelease`\n",
    "\n",
    "...or conda:\n",
    "\n",
    "`conda install -c fastai fastrelease`"
   ]
  },
  {
   "cell_type": "markdown",
   "metadata": {},
   "source": [
    "## How to use"
   ]
  },
  {
   "cell_type": "markdown",
   "metadata": {},
   "source": [
    "### Set up"
   ]
  },
  {
   "cell_type": "markdown",
   "metadata": {},
   "source": [
    "First, create a `settings.ini` file with the following contents (replacing the values as described below):\n",
    "\n",
    "```\n",
    "[DEFAULT]\n",
    "lib_name = fastrelease\n",
    "user = fastai\n",
    "version = 0.0.1\n",
    "```\n",
    "\n",
    "Set `lib_name` to the name of GitHub repo, `user` to the owner of that repo, and `version` to the version number of your library. (Note that if you use [nbdev](https://nbdev.fast.ai) then you'll already have this information, so you don't need to do anything further to set it up.)"
   ]
  },
  {
   "cell_type": "markdown",
   "metadata": {},
   "source": [
    "You'll need to get a GitHub [personal access token](https://docs.github.com/en/github/authenticating-to-github/creating-a-personal-access-token) if you haven't already. To do so, [click here](https://github.com/settings/tokens/new) and enter \"fastrelease\" in the \"Note\" section, and click the `repo` checkbox.\n",
    "\n",
    "Then click \"Generate Token\" at the bottom of the screen, and copy the token (the long string of letters and numbers shown). You can easily do that by clicking the little clipboard icon next to the token.\n",
    "\n",
    "<img alt=\"Copying your token\" width=\"743\" caption=\"Copying your token\" src=\"images/att_00001.png\">\n",
    "\n",
    "Paste that token into a file called `token` into the root of your repo. You can run the following in your terminal (`cd` to the root of your repo first) to create that file:\n",
    "\n",
    "    echo XXX > token\n",
    "\n",
    "Replace *XXX* above with the token you copied. Also, ensure that this file isn't added to git, by running this in your terminal:\n",
    "\n",
    "    echo token >> .gitignore"
   ]
  },
  {
   "cell_type": "markdown",
   "metadata": {},
   "source": [
    "### Creating release notes"
   ]
  },
  {
   "cell_type": "markdown",
   "metadata": {},
   "source": [
    "Now you're ready to create your release notes. These are created in a file called `CHANGELOG.md`. Here's an example of what it creates: [nbdev CHANGELOG](https://github.com/fastai/nbdev/blob/master/CHANGELOG.md).\n",
    "\n",
    "All issues with the label **bug**, **enhancement**, or **breaking** that have been closed in your repo since your last release will be added to the top of this file. If you haven't made any releases before, then all issues with those labels will be included.\n",
    "\n",
    "Therefore, before you create or update `CHANGELOG.md`, go to your GitHub issues page, remove `is:open` from the filter, and label any issues you want included with one of the labels above. When you've done that, you can create or update your release notes by running in your terminal:\n",
    "\n",
    "    fastrelease_changelog\n",
    "\n",
    "The titles and bodies of each issue will be added. Open `CHANGELOG.md` in your editor and make any edits that you want, and then commit the file to your repo (remember to `git add` it!)"
   ]
  },
  {
   "cell_type": "markdown",
   "metadata": {},
   "source": [
    "### Tagging a release"
   ]
  },
  {
   "cell_type": "markdown",
   "metadata": {},
   "source": [
    "You should now tag a release. This will create a tag in GitHub with your current version number in `settings.ini`, and will then make it into a release, using your latest release notes as the description of the release:\n",
    "\n",
    "    fastrelease_release\n",
    "\n",
    "After you run this, be sure to increment your version number in `settings.ini`. You can either edit it manually, or if you use nbdev it can be done for you by running:\n",
    "\n",
    "    nbdev_bump_version"
   ]
  },
  {
   "cell_type": "markdown",
   "metadata": {},
   "source": [
    "### Doing both (creating release notes, and tagging a release)"
   ]
  },
  {
   "cell_type": "markdown",
   "metadata": {},
   "source": [
    "To complete both of the steps above, run:\n",
    "\n",
    "```\n",
    "fastrelease\n",
    "```\n",
    "\n",
    "See the screencast above for a demonstration of this."
   ]
  },
  {
   "cell_type": "code",
   "execution_count": null,
   "metadata": {},
   "outputs": [],
   "source": []
  }
 ],
 "metadata": {
  "kernelspec": {
   "display_name": "Python 3 (ipykernel)",
   "language": "python",
   "name": "python3"
  }
 },
 "nbformat": 4,
 "nbformat_minor": 2
}
